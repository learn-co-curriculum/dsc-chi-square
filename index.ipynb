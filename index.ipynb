{
 "cells": [
  {
   "cell_type": "markdown",
   "metadata": {},
   "source": [
    "# Chi-Square Tests"
   ]
  },
  {
   "cell_type": "markdown",
   "metadata": {},
   "source": [
    "## Introduction\n",
    "\n",
    "In this lesson you'll learn about another type of hypothesis test: the chi-square test! Also written as $\\chi^2$ *test* or *chi-squared test*, this test is used for making claims about the frequencies of *categorical* data. Because it is testing frequencies rather than population parameters, this test is known as a *non-parametric* test."
   ]
  },
  {
   "cell_type": "markdown",
   "metadata": {},
   "source": [
    "## Objectives\n",
    "\n",
    "You will be able to:\n",
    "\n",
    "* Identify use cases for the chi-square test\n",
    "* Distinguish between chi-square tests for goodness of fit, independence, and homogeneity\n",
    "* Perform a chi-square test and make conclusions about an experiment based on the results"
   ]
  },
  {
   "cell_type": "code",
   "execution_count": 1,
   "metadata": {},
   "outputs": [],
   "source": [
    "import numpy as np\n",
    "import pandas as pd\n",
    "import scipy.stats as stats\n",
    "import matplotlib.pyplot as plt"
   ]
  },
  {
   "cell_type": "markdown",
   "metadata": {},
   "source": [
    "## Comparing t-tests and Chi-Square Tests\n",
    "\n",
    "We'll introduce the chi-square test by comparing and contrasting it with a familiar statistical test: the t-test!\n",
    "\n",
    "### t-test Refresher\n",
    "\n",
    "The t-test is applicable for **continuous** variables that can be represented by a **probability density function** (PDF), which allows us to understand the data in terms of **parameters** such as the mean and variance. There are several different kinds of t-tests depending on the question being asked, although we have mainly focused on one-sample and two-sample (independent) tests.\n",
    "\n",
    "For example, we might do a one-sample, two-tailed t-test if we have the following (made up) sample of data, and we are trying to determine whether the mean of this data is significantly different from a $\\mu_{0}$ of 21."
   ]
  },
  {
   "cell_type": "code",
   "execution_count": 2,
   "metadata": {},
   "outputs": [
    {
     "data": {
      "image/png": "[encoded data removed]",
      "text/plain": [
       "<Figure size 432x288 with 1 Axes>"
      ]
     },
     "metadata": {
      "needs_background": "light"
     },
     "output_type": "display_data"
    }
   ],
   "source": [
    "# Generate sample data as a normal continuous random variable\n",
    "sample_data = stats.norm.rvs(loc=20, scale=2, size=50, random_state=5)\n",
    "\n",
    "# Plot data as well as theoretical mean of 21\n",
    "fig, ax = plt.subplots()\n",
    "ax.hist(sample_data, alpha=0.5, label=\"Sample Data\")\n",
    "ax.axvline(sample_data.mean(), linestyle=\"--\", label=r\"Sample Mean $\\mu$\")\n",
    "ax.axvline(21, linestyle=\"--\", color=\"orange\", label=r\"Theoretical Mean $\\mu_{0}$\")\n",
    "ax.set_ylabel(\"Count\")\n",
    "ax.legend();"
   ]
  },
  {
   "cell_type": "markdown",
   "metadata": {},
   "source": [
    "Recall that the t-test:\n",
    "\n",
    "* Has **null and alternative hypotheses about the mean(s)** of one or two samples. For the example shown above, the alternative hypothesis is $\\mu \\neq \\mu_{0}$ (i.e. $\\mu \\neq 21$)\n",
    "* Involves the calculation of a **t-statistic** (or t-value) that represents a standardized version of the difference between the two means, utilizing the sample variance as well as the number in the sample to perform this standardization\n",
    "* Compares this t-statistic to the **t-distribution** (a bell-curve-shaped distribution) in order to determine whether we can reject the null hypothesis at a given alpha level — i.e. to determine whether the difference between the data and the theoretical expectation is statistically significant\n",
    "\n",
    "The simplest way to execute a t-test is like this, using `scipy.stats`. We pass in the data plotted above, and use the hypotheses $H_{0}: \\mu = \\mu_{0}$ and $H_{a}: \\mu \\neq \\mu_{0}$ as well as $\\alpha = 0.01$ to come to a conclusion."
   ]
  },
  {
   "cell_type": "code",
   "execution_count": 3,
   "metadata": {},
   "outputs": [
    {
     "data": {
      "text/plain": [
       "Ttest_1sampResult(statistic=-3.335711380689097, pvalue=0.001628519936938842)"
      ]
     },
     "execution_count": 3,
     "metadata": {},
     "output_type": "execute_result"
    }
   ],
   "source": [
    "stats.ttest_1samp(sample_data, 21)"
   ]
  },
  {
   "cell_type": "markdown",
   "metadata": {},
   "source": [
    "Based on the results above (two-sided, since our alternative hypothesis is $\\mu_ \\neq \\mu_{0}$) we can reject the null hypothesis at an alpha of 0.01, since the resulting p-value (0.0016) is less than our alpha. Therefore we can say that the difference between the sample mean and 21 is statistically significant at the 0.01 significance level.\n",
    "\n",
    "(If you look closely at the code generating the sample, it was generated using a `loc` (mean) of 20 and a fairly small `scale` (variance), so it it makes sense that we got this result!)"
   ]
  },
  {
   "cell_type": "markdown",
   "metadata": {},
   "source": [
    "### Chi-Square Test Introduction\n",
    "\n",
    "The chi-square ($\\chi^2$) test is applicable for **discrete** variables that can be represented by a **probability mass function**, which allows us to understand the data in terms of the **frequencies** of each outcome. There are several different kinds of chi-square tests depending on the question being asked, but we'll focus on *Pearson's chi-square test* and how it is applied for goodness of fit, independence, and homogeneity.\n",
    "\n",
    "Let's start with a ***goodness of fit*** example. This is kind of like the one-sample t-test shown above, in that we are comparing sample data to a theoretical value. This time instead of comparing the sample mean to a theoretical mean, we will compare the frequencies of observed data to the expected frequencies.\n",
    "\n",
    "#### Fair Coin?\n",
    "\n",
    "For this example, let's use the coin toss at the Super Bowl (data through Super Bowl 55). We expect that this is a \"fair\" coin, meaning that we would expect it to produce Heads and Tails equally often."
   ]
  },
  {
   "cell_type": "code",
   "execution_count": 4,
   "metadata": {},
   "outputs": [
    {
     "data": {
      "text/html": [
       "<div>\n",
       "<style scoped>\n",
       "    .dataframe tbody tr th:only-of-type {\n",
       "        vertical-align: middle;\n",
       "    }\n",
       "\n",
       "    .dataframe tbody tr th {\n",
       "        vertical-align: top;\n",
       "    }\n",
       "\n",
       "    .dataframe thead th {\n",
       "        text-align: right;\n",
       "    }\n",
       "</style>\n",
       "<table border=\"1\" class=\"dataframe\">\n",
       "  <thead>\n",
       "    <tr style=\"text-align: right;\">\n",
       "      <th></th>\n",
       "      <th>Super Bowl</th>\n",
       "      <th>Coin Toss Outcome</th>\n",
       "      <th>Coin Toss Winner</th>\n",
       "      <th>Game Winner</th>\n",
       "    </tr>\n",
       "  </thead>\n",
       "  <tbody>\n",
       "    <tr>\n",
       "      <th>50</th>\n",
       "      <td>51</td>\n",
       "      <td>Tails</td>\n",
       "      <td>Home Team</td>\n",
       "      <td>Away Team</td>\n",
       "    </tr>\n",
       "    <tr>\n",
       "      <th>51</th>\n",
       "      <td>52</td>\n",
       "      <td>Heads</td>\n",
       "      <td>Home Team</td>\n",
       "      <td>Away Team</td>\n",
       "    </tr>\n",
       "    <tr>\n",
       "      <th>52</th>\n",
       "      <td>53</td>\n",
       "      <td>Tails</td>\n",
       "      <td>Home Team</td>\n",
       "      <td>Away Team</td>\n",
       "    </tr>\n",
       "    <tr>\n",
       "      <th>53</th>\n",
       "      <td>54</td>\n",
       "      <td>Tails</td>\n",
       "      <td>Away Team</td>\n",
       "      <td>Home Team</td>\n",
       "    </tr>\n",
       "    <tr>\n",
       "      <th>54</th>\n",
       "      <td>55</td>\n",
       "      <td>Heads</td>\n",
       "      <td>Away Team</td>\n",
       "      <td>Home Team</td>\n",
       "    </tr>\n",
       "  </tbody>\n",
       "</table>\n",
       "</div>"
      ],
      "text/plain": [
       "    Super Bowl Coin Toss Outcome Coin Toss Winner Game Winner\n",
       "50          51             Tails        Home Team   Away Team\n",
       "51          52             Heads        Home Team   Away Team\n",
       "52          53             Tails        Home Team   Away Team\n",
       "53          54             Tails        Away Team   Home Team\n",
       "54          55             Heads        Away Team   Home Team"
      ]
     },
     "execution_count": 4,
     "metadata": {},
     "output_type": "execute_result"
    }
   ],
   "source": [
    "# Data from sportsbettingdime.com\n",
    "sb_data = pd.read_csv(\"superbowl.csv\")\n",
    "sb_data.tail()"
   ]
  },
  {
   "cell_type": "code",
   "execution_count": 5,
   "metadata": {},
   "outputs": [
    {
     "data": {
      "text/plain": [
       "Heads    26\n",
       "Tails    29\n",
       "Name: Coin Toss Outcome, dtype: int64"
      ]
     },
     "execution_count": 5,
     "metadata": {},
     "output_type": "execute_result"
    }
   ],
   "source": [
    "coin_toss_counts = sb_data[\"Coin Toss Outcome\"].value_counts().sort_index()\n",
    "coin_toss_counts"
   ]
  },
  {
   "cell_type": "code",
   "execution_count": 6,
   "metadata": {},
   "outputs": [
    {
     "data": {
      "image/png": "[encoded data removed]",
      "text/plain": [
       "<Figure size 432x288 with 1 Axes>"
      ]
     },
     "metadata": {
      "needs_background": "light"
     },
     "output_type": "display_data"
    }
   ],
   "source": [
    "fig, ax = plt.subplots()\n",
    "\n",
    "# Extract observed counts\n",
    "fair_coin_observed = coin_toss_counts.values\n",
    "# Heads and tails each expected half the time\n",
    "fair_coin_expected = [sum(coin_toss_counts)/2, sum(coin_toss_counts)/2]\n",
    "\n",
    "# Placeholder data for display purposes; you can ignore these values\n",
    "x = np.array([0, 5])\n",
    "offset = 1\n",
    "bar_width = 2\n",
    "\n",
    "# Plot bars\n",
    "ax.bar(x-offset, fair_coin_observed, bar_width, label=\"Observed\")\n",
    "ax.bar(x+offset, fair_coin_expected, bar_width, label=\"Expected\")\n",
    "\n",
    "# Customize appearance\n",
    "ax.set_xticks(x)\n",
    "ax.set_xticklabels([\"Heads\", \"Tails\"])\n",
    "ax.set_ylabel(\"Count\")\n",
    "ax.legend(loc=\"right\")\n",
    "fig.suptitle(\"Super Bowl Coin Tosses\");"
   ]
  },
  {
   "cell_type": "markdown",
   "metadata": {},
   "source": [
    "As with the previous graph, the orange shows a theoretical (expected) value and the blue shows what we actually observed from our sample.\n",
    "\n",
    "Unlike the previous graph, the expected value is not a single line representing a parameter, it's a pair of orange bars showing how many times we would expect to see Heads and Tails outcomes.\n",
    "\n",
    "As you can see, the coin toss at the Super Bowl has had slightly fewer Heads results and slightly more Tails results than we expected. But is that difference statistically significant?"
   ]
  },
  {
   "cell_type": "markdown",
   "metadata": {},
   "source": [
    "To answer this, we'll need to perform a chi-square test.\n",
    "\n",
    "A chi-square test:\n",
    "\n",
    "* Has **null and alternative hypotheses about the frequencies of categorical data**. For the example shown above, we'll use the null hypothesis that $P(\\text{Heads}) = 0.5$ and $P(\\text{Tails}) = 0.5$, i.e. that there is no significant difference between the observed and expected values. The alternative hypothesis is that there is a significant difference.\n",
    "* Involves the calculation of a **chi-square statistic** (also just referred to as $\\chi^2$) that represents a standardized version of the difference between the observed and expected values\n",
    "* Compares this $\\chi^2$ to the **chi-square distribution** (the shape of which varies depending on the degrees of freedom) in order to determine whether we can reject the null hypothesis at a given alpha level — i.e. to determine whether the difference between the data and the theoretical expectation is statistically significant\n",
    "\n",
    "Once again, the simplest way to do this is using `scipy.stats` ([documentation here](https://docs.scipy.org/doc/scipy/reference/generated/scipy.stats.chisquare.html)). We'll again say that our alpha is 0.01."
   ]
  },
  {
   "cell_type": "code",
   "execution_count": 7,
   "metadata": {},
   "outputs": [
    {
     "data": {
      "text/plain": [
       "Power_divergenceResult(statistic=0.16363636363636364, pvalue=0.6858304344516056)"
      ]
     },
     "execution_count": 7,
     "metadata": {},
     "output_type": "execute_result"
    }
   ],
   "source": [
    "fair_coin_result = stats.chisquare(fair_coin_observed, fair_coin_expected)\n",
    "fair_coin_result"
   ]
  },
  {
   "cell_type": "markdown",
   "metadata": {},
   "source": [
    "Based on the results above, we fail to reject the null hypothesis at our desired significance level. This is because we found a p-value of 0.69, which is higher than our specified $\\alpha = 0.01$. (Chi-square tests are always one-tailed so we don't have to consider whether to divide the p-value by 2.)\n",
    "\n",
    "In other words, we do not have statistically significant evidence that the coin used here is not a \"fair\" coin! This was an example of a \"goodness of fit\" application of chi-square."
   ]
  },
  {
   "cell_type": "markdown",
   "metadata": {},
   "source": [
    "#### Home-Field Advantage?\n",
    "\n",
    "Another question we might want to ask is whether the home team wins more often than the away team."
   ]
  },
  {
   "cell_type": "code",
   "execution_count": 8,
   "metadata": {},
   "outputs": [
    {
     "data": {
      "text/plain": [
       "Away Team    31\n",
       "Home Team    24\n",
       "Name: Game Winner, dtype: int64"
      ]
     },
     "execution_count": 8,
     "metadata": {},
     "output_type": "execute_result"
    }
   ],
   "source": [
    "game_winner_counts_sb = sb_data[\"Game Winner\"].value_counts().sort_index()\n",
    "game_winner_counts_sb"
   ]
  },
  {
   "cell_type": "markdown",
   "metadata": {},
   "source": [
    "Interesting, it looks like the away team actually wins more often. But is this difference statistically significant?"
   ]
  },
  {
   "cell_type": "code",
   "execution_count": 9,
   "metadata": {},
   "outputs": [
    {
     "data": {
      "image/png": "[encoded data removed]",
      "text/plain": [
       "<Figure size 432x288 with 1 Axes>"
      ]
     },
     "metadata": {
      "needs_background": "light"
     },
     "output_type": "display_data"
    }
   ],
   "source": [
    "fig, ax = plt.subplots()\n",
    "\n",
    "# Extract data\n",
    "observed = game_winner_counts_sb.values\n",
    "expected = [sum(game_winner_counts_sb)/2, sum(game_winner_counts_sb)/2]\n",
    "\n",
    "# Plot bars\n",
    "ax.bar(x-offset, observed, bar_width, label=\"Observed\")\n",
    "ax.bar(x+offset, expected, bar_width, label=\"Expected\")\n",
    "\n",
    "# Customize appearance\n",
    "ax.set_xticks(x)\n",
    "ax.set_xticklabels([\"Away Team Wins\", \"Home Team Wins\"])\n",
    "ax.set_ylabel(\"Count\")\n",
    "ax.legend(loc=\"right\")\n",
    "fig.suptitle(\"Super Bowl Home-Field Advantage\");"
   ]
  },
  {
   "cell_type": "code",
   "execution_count": 10,
   "metadata": {},
   "outputs": [
    {
     "data": {
      "text/plain": [
       "Power_divergenceResult(statistic=0.8909090909090909, pvalue=0.34523107177184)"
      ]
     },
     "execution_count": 10,
     "metadata": {},
     "output_type": "execute_result"
    }
   ],
   "source": [
    "home_field_advantage_result_sb = stats.chisquare(observed, expected)\n",
    "home_field_advantage_result_sb"
   ]
  },
  {
   "cell_type": "markdown",
   "metadata": {},
   "source": [
    "For the Super Bowl specifically, we don't have a low enough p-value to reject the null hypothesis that the home team and away team win equally often. In other words, we are not finding the difference to be statistically significant.\n",
    "\n",
    "But what if we look at regular-season NFL games for the same time period?"
   ]
  },
  {
   "cell_type": "code",
   "execution_count": 11,
   "metadata": {},
   "outputs": [
    {
     "data": {
      "text/plain": [
       "Away Team    5265\n",
       "Home Team    7066\n",
       "Name: Game Winner, dtype: int64"
      ]
     },
     "execution_count": 11,
     "metadata": {},
     "output_type": "execute_result"
    }
   ],
   "source": [
    "# Data from FiveThirtyEight\n",
    "nfl_data = pd.read_csv(\"nfl_games.csv\")\n",
    "# Narrow to relevant rows\n",
    "nfl_data = nfl_data[(nfl_data[\"neutral\"] == 0) & (nfl_data[\"playoff\"] == 0) & (nfl_data[\"season\"] >= 1966 )]\n",
    "# Engineer a new feature\n",
    "nfl_data.loc[nfl_data[\"result1\"] == 0, \"Game Winner\"] = \"Away Team\"\n",
    "nfl_data.loc[nfl_data[\"result1\"] == 1, \"Game Winner\"] = \"Home Team\"\n",
    "\n",
    "game_winner_counts_nfl = nfl_data[\"Game Winner\"].value_counts().sort_index()\n",
    "game_winner_counts_nfl"
   ]
  },
  {
   "cell_type": "markdown",
   "metadata": {},
   "source": [
    "For this much larger dataset, it looks like the home team does win more often."
   ]
  },
  {
   "cell_type": "code",
   "execution_count": 12,
   "metadata": {},
   "outputs": [
    {
     "data": {
      "image/png": "[encoded data removed]",
      "text/plain": [
       "<Figure size 432x288 with 1 Axes>"
      ]
     },
     "metadata": {
      "needs_background": "light"
     },
     "output_type": "display_data"
    }
   ],
   "source": [
    "fig, ax = plt.subplots()\n",
    "\n",
    "# Extract data\n",
    "observed = game_winner_counts_nfl.values\n",
    "expected = [sum(game_winner_counts_nfl)/2, sum(game_winner_counts_nfl)/2]\n",
    "\n",
    "# Plot bars\n",
    "ax.bar(x-offset, observed, bar_width, label=\"Observed\")\n",
    "ax.bar(x+offset, expected, bar_width, label=\"Expected\")\n",
    "\n",
    "# Customize appearance\n",
    "ax.set_xticks(x)\n",
    "ax.set_xticklabels([\"Away Team Wins\", \"Home Team Wins\"])\n",
    "ax.set_ylabel(\"Count\")\n",
    "ax.legend(loc=\"right\")\n",
    "fig.suptitle(\"NFL Season Home-Field Advantage\");"
   ]
  },
  {
   "cell_type": "code",
   "execution_count": 13,
   "metadata": {},
   "outputs": [
    {
     "data": {
      "text/plain": [
       "Power_divergenceResult(statistic=263.0444408401589, pvalue=3.723190824055013e-59)"
      ]
     },
     "execution_count": 13,
     "metadata": {},
     "output_type": "execute_result"
    }
   ],
   "source": [
    "home_field_advantage_result_nfl = stats.chisquare(observed, expected)\n",
    "home_field_advantage_result_nfl"
   ]
  },
  {
   "cell_type": "markdown",
   "metadata": {},
   "source": [
    "With our much larger dataset, we are able to reject the null hypothesis and say that there is a statistically significant difference between the win counts of home teams vs. away teams."
   ]
  },
  {
   "cell_type": "markdown",
   "metadata": {},
   "source": [
    "## Chi-Square Test Calculations\n",
    "\n",
    "In some cases, you will have extremely limited time for applying statistical tests, and will only have the bandwidth to learn how the null and alternative hypotheses are set up, and the code to execute the test. You'll need to be comfortable with some level of ambiguity, now that you're familiar with statistical tests in general!\n",
    "\n",
    "But for now, let's break down the previous problem to understand what this statistical test is doing. How did it produce that p-value?\n",
    "\n",
    "### Chi-Square Statistic\n",
    "\n",
    "Here is the formula for $\\chi^2$:\n",
    "\n",
    "# $$ \\chi^2=\\sum_{i=1}^{n} \\frac{(O_i - E_i)^2}{E_i} $$\n",
    "\n",
    "Spelling this out, it means that we are finding the sum of the squared difference between the observed and expected values $(O_i - E_i)^2$ divided by the expected values $E_i$ for all categories $i$. Just like a t-statistic, it is representing the difference between values in a lower-dimensional way.\n",
    "\n",
    "We'll apply this to our coin flip example below."
   ]
  },
  {
   "cell_type": "code",
   "execution_count": 14,
   "metadata": {},
   "outputs": [
    {
     "data": {
      "text/plain": [
       "0.16363636363636364"
      ]
     },
     "execution_count": 14,
     "metadata": {},
     "output_type": "execute_result"
    }
   ],
   "source": [
    "n = 2 # number of categories (Heads, Tails)\n",
    "chi_square = sum([((fair_coin_observed[i] - fair_coin_expected[i])**2)/fair_coin_expected[i] for i in range(n)])\n",
    "chi_square"
   ]
  },
  {
   "cell_type": "markdown",
   "metadata": {},
   "source": [
    "Note that this is the same as the statistic from when we called the `chisquare` function:"
   ]
  },
  {
   "cell_type": "code",
   "execution_count": 15,
   "metadata": {},
   "outputs": [
    {
     "data": {
      "text/plain": [
       "0.16363636363636364"
      ]
     },
     "execution_count": 15,
     "metadata": {},
     "output_type": "execute_result"
    }
   ],
   "source": [
    "fair_coin_result.statistic"
   ]
  },
  {
   "cell_type": "markdown",
   "metadata": {},
   "source": [
    "### Chi-Square Distribution\n",
    "\n",
    "Below we plot the relevant $\\chi^2$ distribution for our current number of categories (degrees of freedom)."
   ]
  },
  {
   "cell_type": "code",
   "execution_count": 16,
   "metadata": {},
   "outputs": [
    {
     "data": {
      "image/png": "[encoded data removed]",
      "text/plain": [
       "<Figure size 432x288 with 1 Axes>"
      ]
     },
     "metadata": {
      "needs_background": "light"
     },
     "output_type": "display_data"
    }
   ],
   "source": [
    "# Degrees of freedom\n",
    "df = n - 1\n",
    "\n",
    "fig, ax = plt.subplots()\n",
    "x = np.linspace(0.1, 15, 200) # placeholder x values\n",
    "y = stats.chi2.pdf(x, df)\n",
    "\n",
    "ax.plot(x, y, color='darkblue', label=r\"$\\chi^2$ distribution PDF\")\n",
    "ax.legend();"
   ]
  },
  {
   "cell_type": "markdown",
   "metadata": {},
   "source": [
    "Then we can find the critical $\\chi^2$ value and plot that as well."
   ]
  },
  {
   "cell_type": "code",
   "execution_count": 17,
   "metadata": {},
   "outputs": [
    {
     "data": {
      "text/plain": [
       "6.6348966010212145"
      ]
     },
     "execution_count": 17,
     "metadata": {},
     "output_type": "execute_result"
    }
   ],
   "source": [
    "alpha = 0.01\n",
    "critical_value = stats.chi2.ppf(1-alpha, df=df)\n",
    "critical_value"
   ]
  },
  {
   "cell_type": "code",
   "execution_count": 18,
   "metadata": {},
   "outputs": [
    {
     "data": {
      "image/png": "[encoded data removed]",
      "text/plain": [
       "<Figure size 432x288 with 1 Axes>"
      ]
     },
     "metadata": {
      "needs_background": "light"
     },
     "output_type": "display_data"
    }
   ],
   "source": [
    "fig, ax = plt.subplots()\n",
    "\n",
    "ax.plot(x, y, color='darkblue', label=r\"$\\chi^2$ distribution PDF\")\n",
    "ax.axvline(critical_value, color='green', linestyle=\"--\", label=r\"critical $\\chi^2$\")\n",
    "\n",
    "ax.legend();"
   ]
  },
  {
   "cell_type": "markdown",
   "metadata": {},
   "source": [
    "We won't actually plot the rejection region here because it is so small; just know that anywhere under the blue PDF line and to the right of the green line is the rejection region.\n",
    "\n",
    "Now we'll add our observed chi-square to this plot."
   ]
  },
  {
   "cell_type": "code",
   "execution_count": 19,
   "metadata": {},
   "outputs": [
    {
     "data": {
      "image/png": "[encoded data removed]",
      "text/plain": [
       "<Figure size 432x288 with 1 Axes>"
      ]
     },
     "metadata": {
      "needs_background": "light"
     },
     "output_type": "display_data"
    }
   ],
   "source": [
    "fig, ax = plt.subplots()\n",
    "\n",
    "ax.plot(x, y, color='darkblue', label=r\"$\\chi^2$ distribution PDF\")\n",
    "ax.axvline(critical_value, color='green', linestyle=\"--\", label=r\"critical $\\chi^2$\")\n",
    "ax.axvline(chi_square, color='red', label=r\"observed $\\chi^2$\")\n",
    "\n",
    "ax.legend();"
   ]
  },
  {
   "cell_type": "markdown",
   "metadata": {},
   "source": [
    "To reject the null hypothesis, the observed chi-square would need to be to the right of the critical chi-square, but we can see that it is well to the left.\n",
    "\n",
    "Alternatively, we could calculate the p-value directly:"
   ]
  },
  {
   "cell_type": "code",
   "execution_count": 20,
   "metadata": {},
   "outputs": [
    {
     "data": {
      "text/plain": [
       "0.6858304344516056"
      ]
     },
     "execution_count": 20,
     "metadata": {},
     "output_type": "execute_result"
    }
   ],
   "source": [
    "stats.chi2.sf(chi_square, df=df)"
   ]
  },
  {
   "cell_type": "markdown",
   "metadata": {},
   "source": [
    "This is the same value we got from the `chisquare` function:"
   ]
  },
  {
   "cell_type": "code",
   "execution_count": 21,
   "metadata": {},
   "outputs": [
    {
     "data": {
      "text/plain": [
       "0.6858304344516056"
      ]
     },
     "execution_count": 21,
     "metadata": {},
     "output_type": "execute_result"
    }
   ],
   "source": [
    "fair_coin_result.pvalue"
   ]
  },
  {
   "cell_type": "markdown",
   "metadata": {},
   "source": [
    "## Chi-Square Distributions by Degrees of Freedom\n",
    "\n",
    "Note that the shape of the chi-square distribution is different depending on the degrees of freedom — it isn't always monotonically decreasing like the graph shown above. Distributions for various degrees of freedom are shown below:"
   ]
  },
  {
   "cell_type": "code",
   "execution_count": 22,
   "metadata": {},
   "outputs": [
    {
     "data": {
      "image/png": "[encoded data removed]",
      "text/plain": [
       "<Figure size 720x720 with 1 Axes>"
      ]
     },
     "metadata": {
      "needs_background": "light"
     },
     "output_type": "display_data"
    }
   ],
   "source": [
    "fig, ax = plt.subplots(figsize=(10,10))\n",
    "\n",
    "for df_ in range(1, 5):\n",
    "    y_ = stats.chi2.pdf(x, df_)\n",
    "    ax.plot(x, y_, label=f\"df = {df_}\")\n",
    "    \n",
    "ax.set_xlabel(r'$\\chi^2$', fontsize=\"x-large\")\n",
    "ax.set_ylabel(\"Probability\", fontsize=\"x-large\")\n",
    "ax.set_title(\"Chi-Square PDFs for Various Degrees of Freedom\")\n",
    "    \n",
    "ax.legend(fontsize=\"x-large\");"
   ]
  },
  {
   "cell_type": "markdown",
   "metadata": {},
   "source": [
    "## Other Use Cases for Chi-Square Tests\n",
    "\n",
    "The previous example was similar to a one-sample t-test because we were comparing one set of values to theoretical proportions represented by this concept of a \"fair\" coin.\n",
    "\n",
    "The two other ways you can apply chi-square tests are more like two-sample t-tests, where we are comparing two separate samples to understand whether they are different. These techniques are called the test for independence and the test for homogeneity."
   ]
  },
  {
   "cell_type": "markdown",
   "metadata": {},
   "source": [
    "### Chi-Square Test for Independence\n",
    "\n",
    "The chi-square test for independence is an important tool for scientific experimental design, where both the hypothesized independent and dependent variables are categorical rather than numeric.\n",
    "\n",
    "Returning to our Super Bowl data, let's hypothesize a causal connection between two variables. We hypothesize that winning the coin toss is an independent variable, and winning the game is a dependent variable. In other words, that winning the coin toss and winning the game are not independent variables.\n",
    "\n",
    "The null hypothesis is the opposite of this, that winning the coin toss and winning the game are independent variables and neither is dependent on the other.\n",
    "\n",
    "One other way to phrase this as a research question is: **is winning the game related to winning the coin toss, or are these unrelated (independent) variables?**\n",
    "\n",
    "Let's begin by aggregating the data — conveniently pandas has a `crosstab` function ([documentation here](https://pandas.pydata.org/docs/reference/api/pandas.crosstab.html)) that will set this up for us automatically:"
   ]
  },
  {
   "cell_type": "code",
   "execution_count": 23,
   "metadata": {},
   "outputs": [
    {
     "data": {
      "text/html": [
       "<div>\n",
       "<style scoped>\n",
       "    .dataframe tbody tr th:only-of-type {\n",
       "        vertical-align: middle;\n",
       "    }\n",
       "\n",
       "    .dataframe tbody tr th {\n",
       "        vertical-align: top;\n",
       "    }\n",
       "\n",
       "    .dataframe thead th {\n",
       "        text-align: right;\n",
       "    }\n",
       "</style>\n",
       "<table border=\"1\" class=\"dataframe\">\n",
       "  <thead>\n",
       "    <tr style=\"text-align: right;\">\n",
       "      <th>Game Winner</th>\n",
       "      <th>Away Team</th>\n",
       "      <th>Home Team</th>\n",
       "    </tr>\n",
       "    <tr>\n",
       "      <th>Coin Toss Winner</th>\n",
       "      <th></th>\n",
       "      <th></th>\n",
       "    </tr>\n",
       "  </thead>\n",
       "  <tbody>\n",
       "    <tr>\n",
       "      <th>Away Team</th>\n",
       "      <td>15</td>\n",
       "      <td>15</td>\n",
       "    </tr>\n",
       "    <tr>\n",
       "      <th>Home Team</th>\n",
       "      <td>16</td>\n",
       "      <td>9</td>\n",
       "    </tr>\n",
       "  </tbody>\n",
       "</table>\n",
       "</div>"
      ],
      "text/plain": [
       "Game Winner       Away Team  Home Team\n",
       "Coin Toss Winner                      \n",
       "Away Team                15         15\n",
       "Home Team                16          9"
      ]
     },
     "execution_count": 23,
     "metadata": {},
     "output_type": "execute_result"
    }
   ],
   "source": [
    "independence_table = pd.crosstab(sb_data[\"Coin Toss Winner\"], sb_data[\"Game Winner\"])\n",
    "independence_table"
   ]
  },
  {
   "cell_type": "markdown",
   "metadata": {},
   "source": [
    "We observe that there is a slight imbalance here, where the Home and Away team seem to win equally often when the Away team was the coin toss winner, but the Home team wins the game less often when the Home team was the coin toss winner.\n",
    "\n",
    "(This aligns with a superstition/fan theory that winning the coin toss causes a game loss. As of this writing, the coin toss winner had not won the game for the past 7 Super Bowls!)\n",
    "\n",
    "But, is the difference statistically significant?\n",
    "\n",
    "Because we have the data set up as a [contingency table](https://en.wikipedia.org/wiki/Contingency_table), we can use the `chi2_contingency` function ([documentation here](https://docs.scipy.org/doc/scipy/reference/generated/scipy.stats.chi2_contingency.html)) instead of `chisquare`:"
   ]
  },
  {
   "cell_type": "code",
   "execution_count": 24,
   "metadata": {},
   "outputs": [
    {
     "name": "stdout",
     "output_type": "stream",
     "text": [
      "Chi-square statistic: 0.5920138888888885\n",
      "p-value: 0.44164141533080714\n"
     ]
    }
   ],
   "source": [
    "chi2, p, dof, ex = stats.chi2_contingency(independence_table)\n",
    "\n",
    "print(\"Chi-square statistic:\", chi2)\n",
    "print(\"p-value:\", p)"
   ]
  },
  {
   "cell_type": "markdown",
   "metadata": {},
   "source": [
    "The results are a little different, but we have our familiar chi-square statistic and p-value.\n",
    "\n",
    "(The other two values returned are `dof`, the degree of freedom and `ex`, the expected frequencies calculated along the way.)\n",
    "\n",
    "Again assuming $\\alpha = 0.01$, we once again fail to reject the null hypothesis (that the variables are independent) because $p \\nless \\alpha$. We did not find statistically significant evidence that winning the coin toss is the independent variable and winning the game is the dependent variable."
   ]
  },
  {
   "cell_type": "markdown",
   "metadata": {},
   "source": [
    "### Chi-Square Test for Homogeneity\n",
    "\n",
    "One other way we can use a chi-square test is a test for homogeneity. It is very subtly different from the previous test of independence in terms of the framing, but the code is very similar.\n",
    "\n",
    "Whereas the independence test is about the *factors* (e.g. winning the coin toss vs. winning the game), homogeneity is about the *labels* (values) themselves. Similar to two-sample t-tests, the goal is comparing the distributions of two population samples, to understand whether their underlying populations follow the same distribution.\n",
    "\n",
    "[This article](https://www.washingtonpost.com/sports/2020/11/11/home-field-advantage-is-lie/) argues that the home field advantage changed in the 2002-2019 seasons compared to the 2020 season, when the reduced crowd sizes reduced the home field advantage. Let's test that out."
   ]
  },
  {
   "cell_type": "code",
   "execution_count": 25,
   "metadata": {},
   "outputs": [
    {
     "data": {
      "text/html": [
       "<div>\n",
       "<style scoped>\n",
       "    .dataframe tbody tr th:only-of-type {\n",
       "        vertical-align: middle;\n",
       "    }\n",
       "\n",
       "    .dataframe tbody tr th {\n",
       "        vertical-align: top;\n",
       "    }\n",
       "\n",
       "    .dataframe thead th {\n",
       "        text-align: right;\n",
       "    }\n",
       "</style>\n",
       "<table border=\"1\" class=\"dataframe\">\n",
       "  <thead>\n",
       "    <tr style=\"text-align: right;\">\n",
       "      <th></th>\n",
       "      <th>date</th>\n",
       "      <th>season</th>\n",
       "      <th>Game Winner</th>\n",
       "      <th>Timing</th>\n",
       "    </tr>\n",
       "  </thead>\n",
       "  <tbody>\n",
       "    <tr>\n",
       "      <th>11735</th>\n",
       "      <td>2002-09-05</td>\n",
       "      <td>2002</td>\n",
       "      <td>Away Team</td>\n",
       "      <td>Before</td>\n",
       "    </tr>\n",
       "    <tr>\n",
       "      <th>11736</th>\n",
       "      <td>2002-09-08</td>\n",
       "      <td>2002</td>\n",
       "      <td>Away Team</td>\n",
       "      <td>Before</td>\n",
       "    </tr>\n",
       "    <tr>\n",
       "      <th>11737</th>\n",
       "      <td>2002-09-08</td>\n",
       "      <td>2002</td>\n",
       "      <td>Home Team</td>\n",
       "      <td>Before</td>\n",
       "    </tr>\n",
       "    <tr>\n",
       "      <th>11738</th>\n",
       "      <td>2002-09-08</td>\n",
       "      <td>2002</td>\n",
       "      <td>Home Team</td>\n",
       "      <td>Before</td>\n",
       "    </tr>\n",
       "    <tr>\n",
       "      <th>11739</th>\n",
       "      <td>2002-09-08</td>\n",
       "      <td>2002</td>\n",
       "      <td>Away Team</td>\n",
       "      <td>Before</td>\n",
       "    </tr>\n",
       "    <tr>\n",
       "      <th>...</th>\n",
       "      <td>...</td>\n",
       "      <td>...</td>\n",
       "      <td>...</td>\n",
       "      <td>...</td>\n",
       "    </tr>\n",
       "    <tr>\n",
       "      <th>16792</th>\n",
       "      <td>2021-01-03</td>\n",
       "      <td>2020</td>\n",
       "      <td>Home Team</td>\n",
       "      <td>After</td>\n",
       "    </tr>\n",
       "    <tr>\n",
       "      <th>16793</th>\n",
       "      <td>2021-01-03</td>\n",
       "      <td>2020</td>\n",
       "      <td>Away Team</td>\n",
       "      <td>After</td>\n",
       "    </tr>\n",
       "    <tr>\n",
       "      <th>16794</th>\n",
       "      <td>2021-01-03</td>\n",
       "      <td>2020</td>\n",
       "      <td>Away Team</td>\n",
       "      <td>After</td>\n",
       "    </tr>\n",
       "    <tr>\n",
       "      <th>16795</th>\n",
       "      <td>2021-01-03</td>\n",
       "      <td>2020</td>\n",
       "      <td>Away Team</td>\n",
       "      <td>After</td>\n",
       "    </tr>\n",
       "    <tr>\n",
       "      <th>16796</th>\n",
       "      <td>2021-01-03</td>\n",
       "      <td>2020</td>\n",
       "      <td>Away Team</td>\n",
       "      <td>After</td>\n",
       "    </tr>\n",
       "  </tbody>\n",
       "</table>\n",
       "<p>4827 rows × 4 columns</p>\n",
       "</div>"
      ],
      "text/plain": [
       "             date  season Game Winner  Timing\n",
       "11735  2002-09-05    2002   Away Team  Before\n",
       "11736  2002-09-08    2002   Away Team  Before\n",
       "11737  2002-09-08    2002   Home Team  Before\n",
       "11738  2002-09-08    2002   Home Team  Before\n",
       "11739  2002-09-08    2002   Away Team  Before\n",
       "...           ...     ...         ...     ...\n",
       "16792  2021-01-03    2020   Home Team   After\n",
       "16793  2021-01-03    2020   Away Team   After\n",
       "16794  2021-01-03    2020   Away Team   After\n",
       "16795  2021-01-03    2020   Away Team   After\n",
       "16796  2021-01-03    2020   Away Team   After\n",
       "\n",
       "[4827 rows x 4 columns]"
      ]
     },
     "execution_count": 25,
     "metadata": {},
     "output_type": "execute_result"
    }
   ],
   "source": [
    "nfl_data_subset = nfl_data[nfl_data[\"season\"] >= 2002].copy()\n",
    "nfl_data_subset.loc[nfl_data_subset[\"season\"] <= 2019, \"Timing\"] = \"Before\"\n",
    "nfl_data_subset.loc[nfl_data_subset[\"season\"] > 2019, \"Timing\"] = \"After\"\n",
    "nfl_data_subset[[\"date\", \"season\", \"Game Winner\", \"Timing\"]]"
   ]
  },
  {
   "cell_type": "code",
   "execution_count": 26,
   "metadata": {},
   "outputs": [
    {
     "data": {
      "text/html": [
       "<div>\n",
       "<style scoped>\n",
       "    .dataframe tbody tr th:only-of-type {\n",
       "        vertical-align: middle;\n",
       "    }\n",
       "\n",
       "    .dataframe tbody tr th {\n",
       "        vertical-align: top;\n",
       "    }\n",
       "\n",
       "    .dataframe thead th {\n",
       "        text-align: right;\n",
       "    }\n",
       "</style>\n",
       "<table border=\"1\" class=\"dataframe\">\n",
       "  <thead>\n",
       "    <tr style=\"text-align: right;\">\n",
       "      <th>Game Winner</th>\n",
       "      <th>Away Team</th>\n",
       "      <th>Home Team</th>\n",
       "    </tr>\n",
       "    <tr>\n",
       "      <th>Timing</th>\n",
       "      <th></th>\n",
       "      <th></th>\n",
       "    </tr>\n",
       "  </thead>\n",
       "  <tbody>\n",
       "    <tr>\n",
       "      <th>After</th>\n",
       "      <td>128</td>\n",
       "      <td>127</td>\n",
       "    </tr>\n",
       "    <tr>\n",
       "      <th>Before</th>\n",
       "      <td>1952</td>\n",
       "      <td>2610</td>\n",
       "    </tr>\n",
       "  </tbody>\n",
       "</table>\n",
       "</div>"
      ],
      "text/plain": [
       "Game Winner  Away Team  Home Team\n",
       "Timing                           \n",
       "After              128        127\n",
       "Before            1952       2610"
      ]
     },
     "execution_count": 26,
     "metadata": {},
     "output_type": "execute_result"
    }
   ],
   "source": [
    "homogeneity_table = pd.crosstab(nfl_data_subset[\"Timing\"], nfl_data_subset[\"Game Winner\"])\n",
    "homogeneity_table"
   ]
  },
  {
   "cell_type": "code",
   "execution_count": 27,
   "metadata": {},
   "outputs": [
    {
     "name": "stdout",
     "output_type": "stream",
     "text": [
      "Chi-square statistic: 5.103806036450754\n",
      "p-value: 0.02387340466860268\n"
     ]
    }
   ],
   "source": [
    "chi2, p, dof, ex = stats.chi2_contingency(homogeneity_table)\n",
    "\n",
    "print(\"Chi-square statistic:\", chi2)\n",
    "print(\"p-value:\", p)"
   ]
  },
  {
   "cell_type": "markdown",
   "metadata": {},
   "source": [
    "If we are using an alpha of 0.05, this p-value means that we can agree with the article author, that there is a statistically significant difference in the home field advantage for 2020 compared to previous seasons."
   ]
  },
  {
   "cell_type": "markdown",
   "metadata": {},
   "source": [
    "## Additional Resources\n",
    "\n",
    "* [Video explanation](https://youtu.be/TyD-_1JUhxw) of the different kinds of chi-square tests\n",
    "* [More examples of the chi-square test for homogeneity](https://www.stats4stem.org/chi-square-test-for-homogeneity)"
   ]
  },
  {
   "cell_type": "markdown",
   "metadata": {},
   "source": [
    "## Summary\n",
    "\n",
    "The chi-squared test is a useful test for determining whether there are statistically significant differences in the frequencies of different categorical features. It can be used to compare a single categorical variable against a theoretical frequency, or to compare two categorical features using a contingency table."
   ]
  }
 ],
 "metadata": {
  "kernelspec": {
   "display_name": "Python (learn-env)",
   "language": "python",
   "name": "learn-env"
  },
  "language_info": {
   "codemirror_mode": {
    "name": "ipython",
    "version": 3
   },
   "file_extension": ".py",
   "mimetype": "text/x-python",
   "name": "python",
   "nbconvert_exporter": "python",
   "pygments_lexer": "ipython3",
   "version": "3.8.5"
  }
 },
 "nbformat": 4,
 "nbformat_minor": 4
}
